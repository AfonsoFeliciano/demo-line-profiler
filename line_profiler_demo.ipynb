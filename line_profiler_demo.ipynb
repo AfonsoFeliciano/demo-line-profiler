{
  "nbformat": 4,
  "nbformat_minor": 0,
  "metadata": {
    "colab": {
      "provenance": [],
      "authorship_tag": "ABX9TyPw43/DZo7ysMe5eSWj9iNV",
      "include_colab_link": true
    },
    "kernelspec": {
      "name": "python3",
      "display_name": "Python 3"
    },
    "language_info": {
      "name": "python"
    }
  },
  "cells": [
    {
      "cell_type": "markdown",
      "metadata": {
        "id": "view-in-github",
        "colab_type": "text"
      },
      "source": [
        "<a href=\"https://colab.research.google.com/github/AfonsoFeliciano/demo-line-profiler/blob/main/line_profiler_demo.ipynb\" target=\"_parent\"><img src=\"https://colab.research.google.com/assets/colab-badge.svg\" alt=\"Open In Colab\"/></a>"
      ]
    },
    {
      "cell_type": "code",
      "execution_count": 1,
      "metadata": {
        "colab": {
          "base_uri": "https://localhost:8080/"
        },
        "id": "CKhqq8KUXTRy",
        "outputId": "f46b8ef3-850b-4958-ed33-862bac6c0425"
      },
      "outputs": [
        {
          "output_type": "stream",
          "name": "stdout",
          "text": [
            "Collecting line_profiler\n",
            "  Downloading line_profiler-4.1.3-cp310-cp310-manylinux_2_17_x86_64.manylinux2014_x86_64.whl.metadata (34 kB)\n",
            "Downloading line_profiler-4.1.3-cp310-cp310-manylinux_2_17_x86_64.manylinux2014_x86_64.whl (717 kB)\n",
            "\u001b[2K   \u001b[90m━━━━━━━━━━━━━━━━━━━━━━━━━━━━━━━━━━━━━━━━\u001b[0m \u001b[32m717.6/717.6 kB\u001b[0m \u001b[31m9.7 MB/s\u001b[0m eta \u001b[36m0:00:00\u001b[0m\n",
            "\u001b[?25hInstalling collected packages: line_profiler\n",
            "Successfully installed line_profiler-4.1.3\n"
          ]
        }
      ],
      "source": [
        "pip install line_profiler"
      ]
    },
    {
      "cell_type": "code",
      "source": [
        "%load_ext line_profiler"
      ],
      "metadata": {
        "id": "ntHduWOYYlGX"
      },
      "execution_count": 6,
      "outputs": []
    },
    {
      "cell_type": "code",
      "source": [
        "def soma_loop(loop_value, x, y):\n",
        "  list_values = []\n",
        "\n",
        "  if loop_value > 0:\n",
        "\n",
        "    for i in range(0, loop_value):\n",
        "      list_values.append(x + y)\n",
        "\n",
        "    final_value = sum(list_values)\n",
        "\n",
        "    return final_value\n",
        "\n",
        "  else:\n",
        "    return None\n",
        "\n",
        "##############################################\n",
        "\n",
        "def soma_loop_list_comprehension(loop_value, x, y):\n",
        "    return sum([x + y for _ in range(loop_value)]) if loop_value > 0 else None\n",
        "\n",
        "loop_value = 5\n",
        "x = 2\n",
        "y = 3\n",
        "\n",
        "\n"
      ],
      "metadata": {
        "id": "dFLbNdR0XW0P"
      },
      "execution_count": 19,
      "outputs": []
    },
    {
      "cell_type": "code",
      "source": [
        "%lprun -f soma_loop soma_loop(loop_value, x, y)"
      ],
      "metadata": {
        "id": "JWBYIlxAZY6f"
      },
      "execution_count": 21,
      "outputs": []
    },
    {
      "cell_type": "code",
      "source": [
        "%lprun -f soma_loop_list_comprehension soma_loop_list_comprehension(loop_value, x, y)"
      ],
      "metadata": {
        "id": "11zRPSlaaDsf"
      },
      "execution_count": 22,
      "outputs": []
    }
  ]
}